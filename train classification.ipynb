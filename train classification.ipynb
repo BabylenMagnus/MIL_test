{
 "cells": [
  {
   "cell_type": "code",
   "execution_count": 1,
   "id": "e45d26a5",
   "metadata": {},
   "outputs": [],
   "source": [
    "from dataset import Cifar100\n",
    "from model import ClassificationModel\n",
    "from utils import train_classification\n",
    "\n",
    "import torch\n",
    "import torch.nn as nn\n",
    "import torchvision.transforms.functional as F\n",
    "from torchvision import  transforms\n",
    "import matplotlib.pyplot as plt\n",
    "import numpy as np\n",
    "\n",
    "import random"
   ]
  },
  {
   "cell_type": "code",
   "execution_count": 2,
   "id": "71bf1e4c",
   "metadata": {
    "scrolled": true
   },
   "outputs": [
    {
     "data": {
      "text/plain": [
       "ClassificationModel(\n",
       "  (conv_block): Sequential(\n",
       "    (0): Conv2d(3, 8, kernel_size=(5, 5), stride=(3, 3))\n",
       "    (1): BatchNorm2d(8, eps=1e-05, momentum=0.1, affine=True, track_running_stats=True)\n",
       "    (2): ReLU()\n",
       "    (3): Dropout2d(p=0.5, inplace=False)\n",
       "    (4): Conv2d(8, 16, kernel_size=(3, 3), stride=(1, 1), padding=(1, 1))\n",
       "    (5): ReLU()\n",
       "    (6): Dropout2d(p=0.5, inplace=False)\n",
       "  )\n",
       "  (fc_block): Sequential(\n",
       "    (0): Linear(in_features=1600, out_features=1024, bias=True)\n",
       "    (1): ReLU()\n",
       "    (2): Dropout(p=0.5, inplace=False)\n",
       "    (3): Linear(in_features=1024, out_features=100, bias=True)\n",
       "    (4): LogSoftmax(dim=1)\n",
       "  )\n",
       ")"
      ]
     },
     "execution_count": 2,
     "metadata": {},
     "output_type": "execute_result"
    }
   ],
   "source": [
    "model = torch.load('ae250.model').cuda()\n",
    "class_model = ClassificationModel().cuda()\n",
    "loss_function = torch.nn.NLLLoss()\n",
    "optimizer = torch.optim.Adam(class_model.parameters(), lr=5e-3)\n",
    "class_model"
   ]
  },
  {
   "cell_type": "code",
   "execution_count": 3,
   "id": "472ca55b",
   "metadata": {},
   "outputs": [],
   "source": [
    "train_data = Cifar100(\"CIFAR100/TRAIN\")\n",
    "test_data = Cifar100(\"CIFAR100/TEST\")\n",
    "\n",
    "train_loader = torch.utils.data.DataLoader(\n",
    "    train_data, batch_size=128, shuffle=True, num_workers=12\n",
    ")\n",
    "\n",
    "test_loader = torch.utils.data.DataLoader(\n",
    "    test_data, batch_size=128, num_workers=12\n",
    ")"
   ]
  },
  {
   "cell_type": "code",
   "execution_count": 4,
   "id": "d0558896",
   "metadata": {},
   "outputs": [],
   "source": [
    "transform = transforms.RandomApply(\n",
    "    torch.nn.ModuleList([\n",
    "        transforms.RandomVerticalFlip(p=0.5),\n",
    "        transforms.RandomHorizontalFlip(p=0.5),\n",
    "        transforms.RandomRotation(degrees=(0, 90))\n",
    "    ]), p=0.5)"
   ]
  },
  {
   "cell_type": "code",
   "execution_count": 23,
   "id": "5004a871",
   "metadata": {},
   "outputs": [],
   "source": [
    "def plot_result(train_losses, train_accuracies, test_accuracies):\n",
    "    x = list(range(len(train_losses)))\n",
    "\n",
    "    f, polts = plt.subplots(1, 2)\n",
    "    f.set_figheight(5)\n",
    "    f.set_figwidth(15)\n",
    "\n",
    "    polts[0].plot(x, train_accuracies)\n",
    "    polts[0].plot(x, test_accuracies)\n",
    "    polts[0].legend([\"train accuracies\", \"test accuracies\"])\n",
    "\n",
    "    polts[1].plot(x, train_losses)\n",
    "    polts[1].legend([\"train loss\"])\n",
    "\n",
    "    plt.show()"
   ]
  },
  {
   "cell_type": "code",
   "execution_count": null,
   "id": "d8ed3e90",
   "metadata": {},
   "outputs": [],
   "source": [
    "train_losses, train_accuracies, test_accuracies = train_classification(\n",
    "    10, model, class_model, train_loader, test_loader, loss_function, optimizer, \n",
    "    transform=transform, noti_rate=1000\n",
    ")\n",
    "\n",
    "plot_result(train_losses, train_accuracies, test_accuracies)"
   ]
  },
  {
   "cell_type": "code",
   "execution_count": null,
   "id": "fd16aed4",
   "metadata": {},
   "outputs": [],
   "source": []
  },
  {
   "cell_type": "code",
   "execution_count": null,
   "id": "b038c86f",
   "metadata": {},
   "outputs": [],
   "source": []
  },
  {
   "cell_type": "code",
   "execution_count": 7,
   "id": "212aaa62",
   "metadata": {},
   "outputs": [],
   "source": [
    "for i in train_loader:\n",
    "    break\n",
    "classes = i[1].cuda()\n",
    "i = i[0] / 255\n",
    "i = i.cuda()"
   ]
  },
  {
   "cell_type": "code",
   "execution_count": 8,
   "id": "68817429",
   "metadata": {},
   "outputs": [
    {
     "data": {
      "text/plain": [
       "tensor([29, 62, 66, 48, 84, 38, 55, 89, 23, 68, 24,  3, 34, 60, 93, 98, 97, 63,\n",
       "        93, 31, 24, 43,  1, 83, 21, 98, 45,  2, 95, 51, 11, 59, 94, 29,  8, 61,\n",
       "        54, 51, 36, 87, 39,  9, 23, 38, 79, 95, 78, 93, 10, 42, 62, 83, 44, 83,\n",
       "         6, 45, 74, 66, 32, 96, 98, 10, 14, 65, 57, 91,  9, 27, 74, 95, 14, 40,\n",
       "        70, 42, 22,  5, 82, 97, 70, 61, 73, 31, 18, 98, 38, 17, 50, 24, 36, 15,\n",
       "        29, 74, 84, 77, 53, 44, 63, 26, 38, 38, 20,  2, 88, 38, 45, 72, 83, 84,\n",
       "        78, 17, 24, 95, 93,  0, 59,  0, 97, 27, 33, 51, 14,  4, 12, 15, 94, 14,\n",
       "        54, 47], device='cuda:0')"
      ]
     },
     "execution_count": 8,
     "metadata": {},
     "output_type": "execute_result"
    }
   ],
   "source": [
    "classes"
   ]
  },
  {
   "cell_type": "code",
   "execution_count": 9,
   "id": "616f2f66",
   "metadata": {},
   "outputs": [
    {
     "data": {
      "text/plain": [
       "torch.Size([128, 100])"
      ]
     },
     "execution_count": 9,
     "metadata": {},
     "output_type": "execute_result"
    }
   ],
   "source": [
    "out = class_model(model(i))\n",
    "out.shape"
   ]
  },
  {
   "cell_type": "code",
   "execution_count": 10,
   "id": "3624ccfe",
   "metadata": {},
   "outputs": [
    {
     "data": {
      "text/plain": [
       "tensor([29, 14, 67, 20, 14, 11, 65, 22, 16, 12, 35, 37, 75, 23, 23, 40, 75, 14,\n",
       "        75, 31, 24, 60, 42, 11, 21, 73, 24, 22, 11, 23, 49, 57, 38, 94,  8, 26,\n",
       "        54,  1, 36, 60, 39,  9, 22, 11, 99, 78, 37, 60, 69, 42, 60, 88, 74, 73,\n",
       "        79, 24, 74, 22, 24, 76, 21, 89,  7, 23, 57, 74, 19, 73, 74, 18, 22, 34,\n",
       "        52, 42,  5, 41, 94, 19, 24, 49, 75,  1, 29, 21, 38, 11, 50, 24, 60, 75,\n",
       "        23, 74, 14, 92, 20, 23, 73, 94, 69, 93, 23, 80, 11, 11, 21, 80, 44, 59,\n",
       "         3, 75, 24, 22, 21, 22, 94, 75, 60, 52, 74, 77, 14, 77, 12, 88, 94, 14,\n",
       "        26, 49], device='cuda:0')"
      ]
     },
     "execution_count": 10,
     "metadata": {},
     "output_type": "execute_result"
    }
   ],
   "source": [
    "out.argmax(1)"
   ]
  },
  {
   "cell_type": "code",
   "execution_count": 11,
   "id": "3375deaa",
   "metadata": {},
   "outputs": [
    {
     "data": {
      "text/plain": [
       "tensor(3.9219, device='cuda:0', grad_fn=<NllLossBackward0>)"
      ]
     },
     "execution_count": 11,
     "metadata": {},
     "output_type": "execute_result"
    }
   ],
   "source": [
    "loss_function(out, classes)"
   ]
  },
  {
   "cell_type": "code",
   "execution_count": 12,
   "id": "c71b4f18",
   "metadata": {},
   "outputs": [
    {
     "data": {
      "text/plain": [
       "23"
      ]
     },
     "execution_count": 12,
     "metadata": {},
     "output_type": "execute_result"
    }
   ],
   "source": [
    "sum(out.argmax(1) == classes).item()"
   ]
  },
  {
   "cell_type": "code",
   "execution_count": null,
   "id": "c90afc94",
   "metadata": {},
   "outputs": [],
   "source": []
  },
  {
   "cell_type": "code",
   "execution_count": null,
   "id": "3bc9e9ed",
   "metadata": {},
   "outputs": [],
   "source": []
  }
 ],
 "metadata": {
  "kernelspec": {
   "display_name": "Python 3 (ipykernel)",
   "language": "python",
   "name": "python3"
  },
  "language_info": {
   "codemirror_mode": {
    "name": "ipython",
    "version": 3
   },
   "file_extension": ".py",
   "mimetype": "text/x-python",
   "name": "python",
   "nbconvert_exporter": "python",
   "pygments_lexer": "ipython3",
   "version": "3.9.7"
  }
 },
 "nbformat": 4,
 "nbformat_minor": 5
}
