{
 "cells": [
  {
   "cell_type": "code",
   "execution_count": 1,
   "id": "c97f1290",
   "metadata": {},
   "outputs": [],
   "source": [
    "import numpy as np\n",
    "import torch\n",
    "\n",
    "from dataset import Mnist\n",
    "from model import ClassificationMnist\n",
    "\n",
    "from random import choice\n",
    "\n",
    "from sklearn.cluster import KMeans\n",
    "import matplotlib.pyplot as plt\n",
    "from sklearn.decomposition import PCA\n",
    "from sklearn.metrics import top_k_accuracy_score\n",
    "\n",
    "from collections import Counter\n",
    "\n"
   ]
  },
  {
   "cell_type": "code",
   "execution_count": 2,
   "id": "24a5214e",
   "metadata": {},
   "outputs": [],
   "source": [
    "model = ClassificationMnist()"
   ]
  },
  {
   "cell_type": "code",
   "execution_count": 3,
   "id": "474ccb56",
   "metadata": {},
   "outputs": [],
   "source": [
    "train_data = Mnist(\"train-images.idx3-ubyte\", \"train-labels.idx1-ubyte\")\n",
    "test_data = Mnist(\"t10k-images.idx3-ubyte\", \"t10k-labels.idx1-ubyte\")\n",
    "\n",
    "train_loader = torch.utils.data.DataLoader(\n",
    "    train_data, batch_size=256, shuffle=True, num_workers=12\n",
    ")\n",
    "\n",
    "test_loader = torch.utils.data.DataLoader(\n",
    "    test_data, batch_size=256, num_workers=12\n",
    ")"
   ]
  },
  {
   "cell_type": "code",
   "execution_count": 4,
   "id": "f6dd5123",
   "metadata": {},
   "outputs": [],
   "source": [
    "for i in train_loader:\n",
    "    break"
   ]
  },
  {
   "cell_type": "code",
   "execution_count": 5,
   "id": "4d83b29e",
   "metadata": {},
   "outputs": [
    {
     "data": {
      "text/plain": [
       "torch.Size([256, 10])"
      ]
     },
     "execution_count": 5,
     "metadata": {},
     "output_type": "execute_result"
    }
   ],
   "source": [
    "model(i[0].to(torch.float32)).shape"
   ]
  },
  {
   "cell_type": "code",
   "execution_count": 6,
   "id": "1fe7161c",
   "metadata": {},
   "outputs": [
    {
     "data": {
      "text/plain": [
       "6272"
      ]
     },
     "execution_count": 6,
     "metadata": {},
     "output_type": "execute_result"
    }
   ],
   "source": [
    "128 * 7 * 7"
   ]
  },
  {
   "cell_type": "code",
   "execution_count": 7,
   "id": "18fa9cfe",
   "metadata": {},
   "outputs": [
    {
     "data": {
      "text/plain": [
       "ClassificationModel(\n",
       "  (conv_block): Sequential(\n",
       "    (0): Conv2d(3, 8, kernel_size=(5, 5), stride=(3, 3))\n",
       "    (1): Dropout2d(p=0.3, inplace=False)\n",
       "    (2): ReLU()\n",
       "    (3): Conv2d(8, 16, kernel_size=(3, 3), stride=(1, 1), padding=(1, 1))\n",
       "    (4): ReLU()\n",
       "  )\n",
       "  (fc_block): Sequential(\n",
       "    (0): Linear(in_features=1600, out_features=1024, bias=True)\n",
       "    (1): ReLU()\n",
       "    (2): Dropout2d(p=0.2, inplace=False)\n",
       "    (3): Linear(in_features=1024, out_features=100, bias=True)\n",
       "  )\n",
       "  (final): LogSoftmax(dim=1)\n",
       ")"
      ]
     },
     "execution_count": 7,
     "metadata": {},
     "output_type": "execute_result"
    }
   ],
   "source": [
    "model = torch.load('ae250.model').encoder.cuda()\n",
    "class_model = torch.load('classification310.model').cuda()\n",
    "\n",
    "model.eval()\n",
    "class_model.eval()"
   ]
  },
  {
   "cell_type": "code",
   "execution_count": 8,
   "id": "35a16317",
   "metadata": {},
   "outputs": [
    {
     "ename": "NameError",
     "evalue": "name 'Cifar100' is not defined",
     "output_type": "error",
     "traceback": [
      "\u001b[0;31m---------------------------------------------------------------------------\u001b[0m",
      "\u001b[0;31mNameError\u001b[0m                                 Traceback (most recent call last)",
      "\u001b[0;32m/tmp/ipykernel_46918/2544994800.py\u001b[0m in \u001b[0;36m<module>\u001b[0;34m\u001b[0m\n\u001b[0;32m----> 1\u001b[0;31m \u001b[0mtest_data\u001b[0m \u001b[0;34m=\u001b[0m \u001b[0mCifar100\u001b[0m\u001b[0;34m(\u001b[0m\u001b[0;34m\"CIFAR100/TEST\"\u001b[0m\u001b[0;34m)\u001b[0m\u001b[0;34m\u001b[0m\u001b[0;34m\u001b[0m\u001b[0m\n\u001b[0m\u001b[1;32m      2\u001b[0m \u001b[0;34m\u001b[0m\u001b[0m\n\u001b[1;32m      3\u001b[0m test_loader = torch.utils.data.DataLoader(\n\u001b[1;32m      4\u001b[0m     \u001b[0mtest_data\u001b[0m\u001b[0;34m,\u001b[0m \u001b[0mbatch_size\u001b[0m\u001b[0;34m=\u001b[0m\u001b[0mlen\u001b[0m\u001b[0;34m(\u001b[0m\u001b[0mtest_data\u001b[0m\u001b[0;34m)\u001b[0m\u001b[0;34m,\u001b[0m \u001b[0mnum_workers\u001b[0m\u001b[0;34m=\u001b[0m\u001b[0;36m12\u001b[0m\u001b[0;34m\u001b[0m\u001b[0;34m\u001b[0m\u001b[0m\n\u001b[1;32m      5\u001b[0m )\n",
      "\u001b[0;31mNameError\u001b[0m: name 'Cifar100' is not defined"
     ]
    }
   ],
   "source": [
    "test_data = Cifar100(\"CIFAR100/TEST\")\n",
    "\n",
    "test_loader = torch.utils.data.DataLoader(\n",
    "    test_data, batch_size=len(test_data), num_workers=12\n",
    ")"
   ]
  },
  {
   "cell_type": "code",
   "execution_count": null,
   "id": "34f673a0",
   "metadata": {},
   "outputs": [],
   "source": [
    "data, classes = next(iter(test_loader))"
   ]
  },
  {
   "cell_type": "code",
   "execution_count": null,
   "id": "d992e62b",
   "metadata": {},
   "outputs": [],
   "source": [
    "data = data.cuda()\n",
    "data = data.to(torch.float32)\n",
    "data /= 255\n",
    "classes = classes.numpy()"
   ]
  },
  {
   "cell_type": "markdown",
   "id": "9dc07086",
   "metadata": {},
   "source": [
    "top 3, top 5 and top 10 score"
   ]
  },
  {
   "cell_type": "code",
   "execution_count": null,
   "id": "eaba7ab1",
   "metadata": {},
   "outputs": [],
   "source": [
    "predict = class_model(model(data)).detach().cpu().numpy()\n",
    "top_k_accuracy_score(classes, predict, k=3), top_k_accuracy_score(classes, predict, k=5), top_k_accuracy_score(classes, predict, k=10)"
   ]
  },
  {
   "cell_type": "code",
   "execution_count": null,
   "id": "d42923fc",
   "metadata": {},
   "outputs": [],
   "source": [
    "error_per_class = Counter()\n",
    "\n",
    "for i in range(len(test_data.classes)):\n",
    "    error_per_class[i] += sum((predict.argmax(1) == classes)[classes == i]).item()\n"
   ]
  },
  {
   "cell_type": "code",
   "execution_count": null,
   "id": "eb0bfffd",
   "metadata": {},
   "outputs": [],
   "source": [
    "count_classes = 10\n",
    "each_classes_count = 100 \n",
    "displayed_classes = [test_data.classes[x[0]] for x in error_per_class.most_common()[:count_classes]]\n",
    "displayed_classes"
   ]
  },
  {
   "cell_type": "code",
   "execution_count": null,
   "id": "2c151c20",
   "metadata": {},
   "outputs": [],
   "source": [
    "id_disp_classes = [test_data.classes.index(x) for x in displayed_classes]\n",
    "\n",
    "new_data = data[classes == id_disp_classes[0]][:each_classes_count]\n",
    "\n",
    "for i in id_disp_classes[1:]:\n",
    "    new_data = torch.cat((new_data, data[classes == i][:each_classes_count]))\n",
    "\n",
    "data = new_data\n",
    "data.shape"
   ]
  },
  {
   "cell_type": "code",
   "execution_count": null,
   "id": "2a35cbd0",
   "metadata": {},
   "outputs": [],
   "source": [
    "data = model(data)"
   ]
  },
  {
   "cell_type": "code",
   "execution_count": null,
   "id": "91bd250a",
   "metadata": {},
   "outputs": [],
   "source": [
    "data = class_model.conv_block(data)\n",
    "data = data.reshape(-1, 1600)\n",
    "data = class_model.fc_block(data)\n",
    "data.shape"
   ]
  },
  {
   "cell_type": "code",
   "execution_count": null,
   "id": "5d0e831a",
   "metadata": {},
   "outputs": [],
   "source": [
    "data = data.detach().cpu().numpy()"
   ]
  },
  {
   "cell_type": "code",
   "execution_count": null,
   "id": "65d322ca",
   "metadata": {},
   "outputs": [],
   "source": [
    "data.shape"
   ]
  },
  {
   "cell_type": "code",
   "execution_count": null,
   "id": "6328e059",
   "metadata": {},
   "outputs": [],
   "source": [
    "pca = PCA(n_components=2)\n",
    "pca.fit_transform(data)\n",
    "x = pca.transform(data)"
   ]
  },
  {
   "cell_type": "markdown",
   "id": "e2d77a07",
   "metadata": {},
   "source": [
    "two-dimensional representation of elements"
   ]
  },
  {
   "cell_type": "code",
   "execution_count": null,
   "id": "aa8df1b0",
   "metadata": {},
   "outputs": [],
   "source": [
    "fig = plt.figure(figsize = (15,8))\n",
    "ax = fig.add_subplot() \n",
    "\n",
    "for i, id in enumerate(id_disp_classes):\n",
    "    j = x[i * each_classes_count: (i + 1) * each_classes_count]\n",
    "    ax.scatter(j[:, 0], j[:, 1], s=10)\n",
    "\n",
    "ax.legend(displayed_classes)\n",
    "\n",
    "ax.grid()"
   ]
  },
  {
   "cell_type": "code",
   "execution_count": null,
   "id": "c4be2e7f",
   "metadata": {},
   "outputs": [],
   "source": []
  }
 ],
 "metadata": {
  "kernelspec": {
   "display_name": "Python 3 (ipykernel)",
   "language": "python",
   "name": "python3"
  },
  "language_info": {
   "codemirror_mode": {
    "name": "ipython",
    "version": 3
   },
   "file_extension": ".py",
   "mimetype": "text/x-python",
   "name": "python",
   "nbconvert_exporter": "python",
   "pygments_lexer": "ipython3",
   "version": "3.9.7"
  }
 },
 "nbformat": 4,
 "nbformat_minor": 5
}
