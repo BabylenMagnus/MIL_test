{
 "cells": [
  {
   "cell_type": "code",
   "execution_count": 1,
   "id": "c97f1290",
   "metadata": {},
   "outputs": [],
   "source": [
    "import numpy as np\n",
    "import torch\n",
    "\n",
    "from dataset import Mnist\n",
    "from model import ClassificationMnist\n",
    "\n",
    "from random import choice\n",
    "\n",
    "from sklearn.cluster import KMeans\n",
    "import matplotlib.pyplot as plt\n",
    "from sklearn.decomposition import PCA\n",
    "from sklearn.metrics import top_k_accuracy_score\n",
    "\n",
    "from collections import Counter"
   ]
  },
  {
   "cell_type": "code",
   "execution_count": 2,
   "id": "67873ef8",
   "metadata": {},
   "outputs": [
    {
     "data": {
      "text/plain": [
       "ClassificationMnist(\n",
       "  (conv): Sequential(\n",
       "    (0): Sequential(\n",
       "      (0): Conv2d(128, 256, kernel_size=(3, 3), stride=(1, 1), padding=(1, 1))\n",
       "      (1): ReLU()\n",
       "      (2): BatchNorm2d(256, eps=1e-05, momentum=0.1, affine=True, track_running_stats=True)\n",
       "      (3): Conv2d(256, 256, kernel_size=(3, 3), stride=(1, 1), padding=(1, 1))\n",
       "      (4): ReLU()\n",
       "      (5): BatchNorm2d(256, eps=1e-05, momentum=0.1, affine=True, track_running_stats=True)\n",
       "    )\n",
       "    (1): Sequential(\n",
       "      (0): Conv2d(256, 128, kernel_size=(3, 3), stride=(1, 1), padding=(1, 1))\n",
       "      (1): ReLU()\n",
       "      (2): BatchNorm2d(128, eps=1e-05, momentum=0.1, affine=True, track_running_stats=True)\n",
       "      (3): Conv2d(128, 128, kernel_size=(3, 3), stride=(1, 1), padding=(1, 1))\n",
       "      (4): ReLU()\n",
       "      (5): BatchNorm2d(128, eps=1e-05, momentum=0.1, affine=True, track_running_stats=True)\n",
       "    )\n",
       "    (2): Sequential(\n",
       "      (0): Conv2d(128, 128, kernel_size=(3, 3), stride=(1, 1), padding=(1, 1))\n",
       "      (1): ReLU()\n",
       "      (2): BatchNorm2d(128, eps=1e-05, momentum=0.1, affine=True, track_running_stats=True)\n",
       "      (3): Conv2d(128, 128, kernel_size=(3, 3), stride=(1, 1), padding=(1, 1))\n",
       "      (4): ReLU()\n",
       "      (5): BatchNorm2d(128, eps=1e-05, momentum=0.1, affine=True, track_running_stats=True)\n",
       "    )\n",
       "  )\n",
       "  (fc): Linear(in_features=6272, out_features=10, bias=True)\n",
       "  (final): Softmax(dim=1)\n",
       ")"
      ]
     },
     "execution_count": 2,
     "metadata": {},
     "output_type": "execute_result"
    }
   ],
   "source": [
    "model = torch.load(\"mnist50.model\")\n",
    "model.eval()"
   ]
  },
  {
   "cell_type": "code",
   "execution_count": 3,
   "id": "bfff0c4d",
   "metadata": {},
   "outputs": [],
   "source": [
    "model_ae = torch.load(\"mnistae100.model\")\n",
    "model_ae.eval()\n",
    "\n",
    "def call_ae(x):\n",
    "    x = model_ae.block1(x)\n",
    "    x = model_ae.max_pool(x)\n",
    "    x = model_ae.block2(x)\n",
    "    x = model_ae.max_pool(x)\n",
    "    x = model_ae.block3(x)\n",
    "    return x"
   ]
  },
  {
   "cell_type": "code",
   "execution_count": 4,
   "id": "35a16317",
   "metadata": {},
   "outputs": [],
   "source": [
    "test_data = Mnist(\"t10k-images.idx3-ubyte\", \"t10k-labels.idx1-ubyte\")\n",
    "\n",
    "test_loader = torch.utils.data.DataLoader(\n",
    "    test_data, batch_size=500, num_workers=12\n",
    ")"
   ]
  },
  {
   "cell_type": "code",
   "execution_count": 5,
   "id": "34f673a0",
   "metadata": {},
   "outputs": [],
   "source": [
    "data, classes = next(iter(test_loader))"
   ]
  },
  {
   "cell_type": "code",
   "execution_count": 6,
   "id": "d992e62b",
   "metadata": {},
   "outputs": [],
   "source": [
    "data = data.cuda()\n",
    "data = data.to(torch.float32)\n",
    "data /= 255\n",
    "classes = classes.numpy()"
   ]
  },
  {
   "cell_type": "markdown",
   "id": "9dc07086",
   "metadata": {},
   "source": [
    "top 1, top 3 and top 5 score"
   ]
  },
  {
   "cell_type": "code",
   "execution_count": 10,
   "id": "eaba7ab1",
   "metadata": {},
   "outputs": [
    {
     "data": {
      "text/plain": [
       "(0.968, 0.998, 1.0)"
      ]
     },
     "execution_count": 10,
     "metadata": {},
     "output_type": "execute_result"
    }
   ],
   "source": [
    "predict = model(call_ae(data)).detach().cpu().numpy()\n",
    "top_k_accuracy_score(classes, predict, k=1), top_k_accuracy_score(classes, predict, k=3), top_k_accuracy_score(classes, predict, k=5)"
   ]
  },
  {
   "cell_type": "code",
   "execution_count": 12,
   "id": "eb0bfffd",
   "metadata": {},
   "outputs": [
    {
     "data": {
      "text/plain": [
       "array([0, 1, 2, 3, 4, 5, 6, 7, 8, 9])"
      ]
     },
     "execution_count": 12,
     "metadata": {},
     "output_type": "execute_result"
    }
   ],
   "source": [
    "count_classes = 10\n",
    "each_classes_count = 100 \n",
    "displayed_classes = np.arange(10)\n",
    "displayed_classes"
   ]
  },
  {
   "cell_type": "code",
   "execution_count": 14,
   "id": "2c151c20",
   "metadata": {},
   "outputs": [
    {
     "data": {
      "text/plain": [
       "torch.Size([500, 1, 28, 28])"
      ]
     },
     "execution_count": 14,
     "metadata": {},
     "output_type": "execute_result"
    }
   ],
   "source": [
    "id_disp_classes = np.arange(10)\n",
    "\n",
    "new_data = data[classes == id_disp_classes[0]][:each_classes_count]\n",
    "\n",
    "for i in id_disp_classes[1:]:\n",
    "    new_data = torch.cat((new_data, data[classes == i][:each_classes_count]))\n",
    "\n",
    "data = new_data\n",
    "data.shape"
   ]
  },
  {
   "cell_type": "code",
   "execution_count": 15,
   "id": "2a35cbd0",
   "metadata": {},
   "outputs": [],
   "source": [
    "data = call_ae(data)"
   ]
  },
  {
   "cell_type": "code",
   "execution_count": 16,
   "id": "91bd250a",
   "metadata": {},
   "outputs": [
    {
     "data": {
      "text/plain": [
       "torch.Size([500, 10])"
      ]
     },
     "execution_count": 16,
     "metadata": {},
     "output_type": "execute_result"
    }
   ],
   "source": [
    "data = model.conv(data)\n",
    "data = data.reshape(-1, 6272)\n",
    "data = model.fc(data)\n",
    "data.shape"
   ]
  },
  {
   "cell_type": "code",
   "execution_count": 17,
   "id": "5d0e831a",
   "metadata": {},
   "outputs": [],
   "source": [
    "data = data.detach().cpu().numpy()"
   ]
  },
  {
   "cell_type": "code",
   "execution_count": 18,
   "id": "65d322ca",
   "metadata": {},
   "outputs": [
    {
     "data": {
      "text/plain": [
       "(500, 10)"
      ]
     },
     "execution_count": 18,
     "metadata": {},
     "output_type": "execute_result"
    }
   ],
   "source": [
    "data.shape"
   ]
  },
  {
   "cell_type": "code",
   "execution_count": 19,
   "id": "6328e059",
   "metadata": {},
   "outputs": [],
   "source": [
    "pca = PCA(n_components=2)\n",
    "pca.fit_transform(data)\n",
    "x = pca.transform(data)"
   ]
  },
  {
   "cell_type": "markdown",
   "id": "e2d77a07",
   "metadata": {},
   "source": [
    "two-dimensional representation of elements"
   ]
  },
  {
   "cell_type": "code",
   "execution_count": 20,
   "id": "aa8df1b0",
   "metadata": {},
   "outputs": [
    {
     "data": {
      "image/png": "[encoded data removed]",
      "text/plain": [
       "<Figure size 1080x576 with 1 Axes>"
      ]
     },
     "metadata": {
      "needs_background": "light"
     },
     "output_type": "display_data"
    }
   ],
   "source": [
    "fig = plt.figure(figsize = (15,8))\n",
    "ax = fig.add_subplot() \n",
    "\n",
    "for i, id in enumerate(id_disp_classes):\n",
    "    j = x[i * each_classes_count: (i + 1) * each_classes_count]\n",
    "    ax.scatter(j[:, 0], j[:, 1], s=10)\n",
    "\n",
    "ax.legend(displayed_classes)\n",
    "\n",
    "ax.grid()"
   ]
  },
  {
   "cell_type": "code",
   "execution_count": null,
   "id": "c4be2e7f",
   "metadata": {},
   "outputs": [],
   "source": []
  }
 ],
 "metadata": {
  "kernelspec": {
   "display_name": "Python 3 (ipykernel)",
   "language": "python",
   "name": "python3"
  },
  "language_info": {
   "codemirror_mode": {
    "name": "ipython",
    "version": 3
   },
   "file_extension": ".py",
   "mimetype": "text/x-python",
   "name": "python",
   "nbconvert_exporter": "python",
   "pygments_lexer": "ipython3",
   "version": "3.9.7"
  }
 },
 "nbformat": 4,
 "nbformat_minor": 5
}
